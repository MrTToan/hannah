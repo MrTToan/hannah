{
 "cells": [
  {
   "cell_type": "code",
   "execution_count": 1,
   "metadata": {},
   "outputs": [],
   "source": [
    "from sklearn.base import BaseEstimator, TransformerMixin\n",
    "from sklearn.pipeline import FeatureUnion, Pipeline\n",
    "from  sklearn.preprocessing import LabelEncoder\n",
    "from sklearn.model_selection import train_test_split\n",
    "from sklearn.metrics import accuracy_score\n",
    "from xgboost import XGBClassifier\n",
    "from scipy import stats\n",
    "import numpy as np\n",
    "import pandas as pd\n",
    "import pandas_gbq\n",
    "import os"
   ]
  },
  {
   "cell_type": "code",
   "execution_count": 12,
   "metadata": {},
   "outputs": [],
   "source": [
    "def get_data(file_name):\n",
    "#     filename = os.path.join(os.getcwd(),'/',file_name)\n",
    "    with open(file_name, 'r') as f:\n",
    "        df = pd.read_csv(f) \n",
    "    return df\n",
    "\n",
    "def split_data(dataset):\n",
    "    X_train, X_test, y_train, y_test = train_test_split(\n",
    "                                                            dataset.drop(columns=['user_label'])\n",
    "                                                            , dataset['user_label']\n",
    "                                                            , test_size=0.2\n",
    "                                                            , random_state=99)\n",
    "    return X_train, X_test, y_train, y_test\n",
    "\n",
    "class ConvertCategorical(BaseEstimator, TransformerMixin):\n",
    "    def fit(self, X, y=None):\n",
    "        return self \n",
    "\n",
    "    def transform(self, X, y=None):\n",
    "        # processed_df = X\n",
    "        X['type_'] = LabelEncoder().fit_transform(X['type_'])\n",
    "\n",
    "        for column in X.columns:\n",
    "            if X[column].dtypes == 'object' and column not in ('deviceID', 'type_'):\n",
    "                X[column] = X[column].astype(float)\n",
    "        return X\n",
    "\n",
    "class HandlingMissingValue(BaseEstimator, TransformerMixin):\n",
    "    def fit(self, X, y=None):\n",
    "        return self \n",
    "\n",
    "    def handling_missing_value(self, X, y=None):\n",
    "        X.drop(columns=['reward', 'fixed_price', 'freegift', 'phieu_dat_coc_cate'], inplace=True)\n",
    "        X.fillna(0, inplace=True)\n",
    "        return X\n",
    "    \n",
    "    def transform(self, X, y=None):\n",
    "        return self.handling_missing_value(X)\n",
    "\n",
    "class HandlingOutliers(BaseEstimator, TransformerMixin):\n",
    "    def fit(self, X, y=None):\n",
    "        return self \n",
    "\n",
    "    def handling_outliers(self, X, y=None):\n",
    "        num_col = X.columns[X.dtypes != 'object']\n",
    "        outlier = pd.DataFrame()\n",
    "        for col in num_col:\n",
    "            outlier[col] = np.abs(stats.zscore(X[col]))\n",
    "\n",
    "        X.drop(index=outlier[outlier.values > 3].index, inplace=True)\n",
    "        X.set_index('deviceID', inplace=True)\n",
    "\n",
    "        return X\n",
    "    \n",
    "    def transform(self, X, y=None):\n",
    "        return self.handling_outliers(X)\n",
    "\n",
    "class NewFeatures(BaseEstimator, TransformerMixin):\n",
    "    def fit(self, X, y=None):\n",
    "        return self\n",
    "\n",
    "    def transform(self, X, y=None):\n",
    "        X['TT_ratio'] = X['check_s'] / X['sum_cate']\n",
    "        X.fillna(0, inplace=True)\n",
    "        return X\n",
    "\n",
    "\n",
    "process_pl = Pipeline(memory=None, steps=[\n",
    "    ('convert_categorical', ConvertCategorical()),\n",
    "    ('handling_missing_value', HandlingMissingValue()),\n",
    "    ('handling_outliers', HandlingOutliers()),\n",
    "    ('add_new_features', NewFeatures()),\n",
    "    # ('split_data', SplitData),\n",
    "], verbose=True)"
   ]
  },
  {
   "cell_type": "code",
   "execution_count": 26,
   "metadata": {},
   "outputs": [
    {
     "name": "stdout",
     "output_type": "stream",
     "text": [
      "[Pipeline]  (step 1 of 4) Processing convert_categorical, total=   0.2s\n",
      "[Pipeline]  (step 2 of 4) Processing handling_missing_value, total=   0.5s\n",
      "[Pipeline] . (step 3 of 4) Processing handling_outliers, total=   2.8s\n",
      "[Pipeline] .. (step 4 of 4) Processing add_new_features, total=   0.0s\n"
     ]
    }
   ],
   "source": [
    "raw = get_data('train.csv')\n",
    "processing_data = process_pl.fit(raw)\n",
    "X_train, X_test, y_train, y_test = split_data(raw)\n",
    "# print(X_train.columns)\n",
    "# model = XGBClassifier(max_depth=9, n_estimators=100)\n",
    "# model.fit(X_train, y_train)\n",
    "\n",
    "# print(model.score(X_test, y_test))\n",
    "# prediction = model.predict(X_train)\n",
    "# print(accuracy_score(y_train, prediction))"
   ]
  },
  {
   "cell_type": "code",
   "execution_count": 27,
   "metadata": {},
   "outputs": [
    {
     "data": {
      "text/plain": [
       "Pipeline(memory=None,\n",
       "         steps=[('convert_categorical', ConvertCategorical()),\n",
       "                ('handling_missing_value', HandlingMissingValue()),\n",
       "                ('handling_outliers', HandlingOutliers()),\n",
       "                ('add_new_features', NewFeatures())],\n",
       "         verbose=True)"
      ]
     },
     "execution_count": 27,
     "metadata": {},
     "output_type": "execute_result"
    }
   ],
   "source": [
    "processing_data"
   ]
  },
  {
   "cell_type": "code",
   "execution_count": 28,
   "metadata": {},
   "outputs": [
    {
     "data": {
      "text/plain": [
       "Index(['no_of_screen', 'no_of_session', 'sum_atc', 'transportation_cate',\n",
       "       'beauty_health_cate', 'home_living_cate', 'accessories_cate',\n",
       "       'voucher_cate', 'electronic_cate', 'book_cate', 'phone_tablet_cate',\n",
       "       'service_cate', 'lifestyle_cate', 'digital_device_cate', 'sport_cate',\n",
       "       'cross_border_cate', 'laptop_cate', 'camera_cate', 'mom_baby_cate',\n",
       "       'recycle_bin_cate', 'electric_appliances_cate', 'promotion_cate',\n",
       "       'sum_cate', 'by_percent', 'cart_fixed', 'urban_area', 'sum_search',\n",
       "       'check_s', 'seller', 'price_100000_2000000', 'price_0_50000',\n",
       "       'price_200000_500000', 'price_50000_100000', 'price_500000_2000000',\n",
       "       'price_2000000_5000000', 'price_bigger_5000000', 'sum_tikinow',\n",
       "       'avg_review_verified', 'rating', 'type_', 'user_label'],\n",
       "      dtype='object')"
      ]
     },
     "execution_count": 28,
     "metadata": {},
     "output_type": "execute_result"
    }
   ],
   "source": [
    "raw.columns"
   ]
  },
  {
   "cell_type": "code",
   "execution_count": null,
   "metadata": {},
   "outputs": [],
   "source": []
  }
 ],
 "metadata": {
  "kernelspec": {
   "display_name": "Python 3",
   "language": "python",
   "name": "python3"
  },
  "language_info": {
   "codemirror_mode": {
    "name": "ipython",
    "version": 3
   },
   "file_extension": ".py",
   "mimetype": "text/x-python",
   "name": "python",
   "nbconvert_exporter": "python",
   "pygments_lexer": "ipython3",
   "version": "3.6.9"
  }
 },
 "nbformat": 4,
 "nbformat_minor": 2
}
